{
 "metadata": {
  "name": "",
  "signature": "sha256:73a6b13b0338d5f421ab0ceb770f1c368abb8c0a1650e52267dce531dd9e93e0"
 },
 "nbformat": 3,
 "nbformat_minor": 0,
 "worksheets": [
  {
   "cells": [
    {
     "cell_type": "code",
     "collapsed": false,
     "input": [
      "import Tkinter, tkFileDialog\n",
      "import pandas as pd\n",
      "import numpy as np\n",
      "import matplotlib.pyplot as plt\n",
      "from IPython import parallel"
     ],
     "language": "python",
     "metadata": {},
     "outputs": [],
     "prompt_number": 7
    },
    {
     "cell_type": "code",
     "collapsed": false,
     "input": [
      "root = Tkinter.Tk()\n",
      "root.withdraw()"
     ],
     "language": "python",
     "metadata": {},
     "outputs": [
      {
       "metadata": {},
       "output_type": "pyout",
       "prompt_number": 8,
       "text": [
        "''"
       ]
      }
     ],
     "prompt_number": 8
    },
    {
     "cell_type": "code",
     "collapsed": false,
     "input": [
      "apple_file = tkFileDialog.askopenfile()\n",
      "apple = pd.read_csv(apple_file, parse_dates=[0], na_values='XXXXX')\n",
      "apple.columns = [apple.columns[0], apple.columns[1], 'PctChange']"
     ],
     "language": "python",
     "metadata": {},
     "outputs": [],
     "prompt_number": 9
    },
    {
     "cell_type": "code",
     "collapsed": false,
     "input": [
      "mu = apple.PctChange.mean()  # mean of pct change sample\n",
      "sigma = apple.PctChange.std()  # std dev of pct change sample"
     ],
     "language": "python",
     "metadata": {},
     "outputs": [],
     "prompt_number": 10
    },
    {
     "cell_type": "code",
     "collapsed": false,
     "input": [
      "lastVal = apple.Last.values[-1]  # last observed price in sample"
     ],
     "language": "python",
     "metadata": {},
     "outputs": [],
     "prompt_number": 11
    },
    {
     "cell_type": "code",
     "collapsed": false,
     "input": [
      "# setup parallel clients\n",
      "# must run following console command before code below: $ ipcluster start -n 4\n",
      "clients = parallel.Client()\n",
      "clients.block = True  # wait for all clients to finish before starting new tasks\n",
      "\n",
      "dview = clients.direct_view()"
     ],
     "language": "python",
     "metadata": {},
     "outputs": [],
     "prompt_number": 12
    },
    {
     "cell_type": "code",
     "collapsed": false,
     "input": [
      "# make sure clients have access to necessary packages\n",
      "%px import random as r"
     ],
     "language": "python",
     "metadata": {},
     "outputs": [],
     "prompt_number": 13
    },
    {
     "cell_type": "code",
     "collapsed": false,
     "input": [
      "# run monte carlo experiment 10,000 times in parallel\n",
      "# helper function to simplify logic\n",
      "def gen_day20_vals(lastVal, n, mu, sigma):\n",
      "    # helper function to calculate day 20 price\n",
      "    def gen_new_obs(start_val, pct_ch):\n",
      "        out = start_val\n",
      "        for pct in pct_ch:\n",
      "            out *= 1 + pct\n",
      "        return out\n",
      "    \n",
      "    Day20Val = ()\n",
      "    for i in xrange(n):\n",
      "        new20pct = [r.gauss(mu, sigma) for days in xrange(20)]\n",
      "        Day20Val += (gen_new_obs(lastVal, new20pct),)\n",
      "    return Day20Val\n",
      "\n",
      "all_results = dview.apply(gen_day20_vals, lastVal, 2500, mu, sigma)"
     ],
     "language": "python",
     "metadata": {},
     "outputs": [],
     "prompt_number": 14
    },
    {
     "cell_type": "code",
     "collapsed": false,
     "input": [
      "# Gather results into a single tuple\n",
      "all_results = all_results[0] + all_results[1] + all_results[2] + all_results[3]"
     ],
     "language": "python",
     "metadata": {},
     "outputs": [],
     "prompt_number": 15
    },
    {
     "cell_type": "code",
     "collapsed": false,
     "input": [
      "# plot normed histogram of values\n",
      "plt.hist(all_results, bins=100, normed=1)\n",
      "plt.show()"
     ],
     "language": "python",
     "metadata": {},
     "outputs": [],
     "prompt_number": 16
    },
    {
     "cell_type": "code",
     "collapsed": false,
     "input": [
      "# find 1st percentile\n",
      "print('The VaR is %.2f with 99%% confidence.'\n",
      "      % np.percentile(all_results, 1))"
     ],
     "language": "python",
     "metadata": {},
     "outputs": [
      {
       "output_type": "stream",
       "stream": "stdout",
       "text": [
        "The VaR is 347.07 with 99% confidence.\n"
       ]
      }
     ],
     "prompt_number": 17
    },
    {
     "cell_type": "code",
     "collapsed": false,
     "input": [],
     "language": "python",
     "metadata": {},
     "outputs": [],
     "prompt_number": 17
    }
   ],
   "metadata": {}
  }
 ]
}