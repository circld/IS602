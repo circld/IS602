{
 "metadata": {
  "name": "",
  "signature": "sha256:4df523f5376d79424ceb678cf2ee584953cc3dcdd69201f563c300db2f62133f"
 },
 "nbformat": 3,
 "nbformat_minor": 0,
 "worksheets": [
  {
   "cells": [
    {
     "cell_type": "code",
     "collapsed": false,
     "input": [
      "import Tkinter, tkFileDialog\n",
      "import pandas as pd\n",
      "import numpy as np\n",
      "import matplotlib.pyplot as plt\n",
      "from IPython import parallel"
     ],
     "language": "python",
     "metadata": {},
     "outputs": [],
     "prompt_number": 4
    },
    {
     "cell_type": "code",
     "collapsed": false,
     "input": [
      "root = Tkinter.Tk()\n",
      "root.withdraw()"
     ],
     "language": "python",
     "metadata": {},
     "outputs": [
      {
       "metadata": {},
       "output_type": "pyout",
       "prompt_number": 5,
       "text": [
        "''"
       ]
      }
     ],
     "prompt_number": 5
    },
    {
     "cell_type": "code",
     "collapsed": false,
     "input": [
      "apple_file = tkFileDialog.askopenfile()\n",
      "apple = pd.read_csv(apple_file, parse_dates=[0], na_values='XXXXX')\n",
      "apple.columns = [apple.columns[0], apple.columns[1], 'PctChange']"
     ],
     "language": "python",
     "metadata": {},
     "outputs": [],
     "prompt_number": 6
    },
    {
     "cell_type": "code",
     "collapsed": false,
     "input": [
      "mu = apple.PctChange.mean()  # mean of pct change sample\n",
      "sigma = apple.PctChange.std()  # std dev of pct change sample"
     ],
     "language": "python",
     "metadata": {},
     "outputs": [],
     "prompt_number": 7
    },
    {
     "cell_type": "code",
     "collapsed": false,
     "input": [
      "lastVal = apple.Last.values[-1]  # last observed price in sample"
     ],
     "language": "python",
     "metadata": {},
     "outputs": [],
     "prompt_number": 8
    },
    {
     "cell_type": "code",
     "collapsed": false,
     "input": [
      "# run monte carlo experiment 10,000 times in parallel\n",
      "# helper function to simplify logic\n",
      "def gen_day20_vals(lastVal, n, mu, sigma):\n",
      "    import random as r\n",
      "    # helper function to calculate day 20 price\n",
      "    def gen_new_obs(start_val, pct_ch):\n",
      "        out = start_val\n",
      "        for pct in pct_ch:\n",
      "            out *= 1 + pct\n",
      "        return out\n",
      "    \n",
      "    Day20Val = ()\n",
      "    for i in xrange(n):\n",
      "        new20pct = [r.gauss(mu, sigma) for days in xrange(20)]\n",
      "        Day20Val += (gen_new_obs(lastVal, new20pct),)\n",
      "    return Day20Val\n",
      "\n",
      "def gen_day20_parallel(lastVal, n, mu, sigma):\n",
      "    # setup parallel clients\n",
      "    # must run following console command before code below: $ ipcluster start -n 4\n",
      "    clients = parallel.Client()\n",
      "    clients.block = True  # wait for all clients to finish before starting new tasks\n",
      "\n",
      "    dview = clients.direct_view()\n",
      "    \n",
      "    all_results = dview.apply(gen_day20_vals, lastVal, 2500, mu, sigma)\n",
      "\n",
      "    # Gather results into a single tuple\n",
      "    return all_results[0] + all_results[1] + all_results[2] + all_results[3]"
     ],
     "language": "python",
     "metadata": {},
     "outputs": [],
     "prompt_number": 18
    },
    {
     "cell_type": "code",
     "collapsed": false,
     "input": [
      "# plot normed histogram of values\n",
      "plt.hist(all_results, bins=100, normed=1)\n",
      "plt.show()"
     ],
     "language": "python",
     "metadata": {},
     "outputs": [],
     "prompt_number": 12
    },
    {
     "cell_type": "code",
     "collapsed": false,
     "input": [
      "# find 1st percentile\n",
      "print('The VaR is %.2f with 99%% confidence.'\n",
      "      % np.percentile(all_results, 1))"
     ],
     "language": "python",
     "metadata": {},
     "outputs": [
      {
       "output_type": "stream",
       "stream": "stdout",
       "text": [
        "The VaR is 346.74 with 99% confidence.\n"
       ]
      }
     ],
     "prompt_number": 13
    },
    {
     "cell_type": "code",
     "collapsed": false,
     "input": [
      "%timeit gen_day20_vals(lastVal, 10000, mu, sigma)"
     ],
     "language": "python",
     "metadata": {},
     "outputs": [
      {
       "output_type": "stream",
       "stream": "stdout",
       "text": [
        "1 loops, best of 3: 43.1 s per loop\n"
       ]
      }
     ],
     "prompt_number": 23
    },
    {
     "cell_type": "code",
     "collapsed": false,
     "input": [
      "%timeit gen_day20_parallel(lastVal, 2500, mu, sigma)"
     ],
     "language": "python",
     "metadata": {},
     "outputs": [
      {
       "output_type": "stream",
       "stream": "stdout",
       "text": [
        "1 loops, best of 3: 471 ms per loop\n"
       ]
      }
     ],
     "prompt_number": 24
    },
    {
     "cell_type": "code",
     "collapsed": false,
     "input": [],
     "language": "python",
     "metadata": {},
     "outputs": []
    }
   ],
   "metadata": {}
  }
 ]
}