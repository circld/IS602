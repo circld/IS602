{
 "metadata": {
  "name": "",
  "signature": "sha256:ec1a5c02e9cb6ed583e30ef46b23090c80a3bd14ac883873117006be7d54532d"
 },
 "nbformat": 3,
 "nbformat_minor": 0,
 "worksheets": [
  {
   "cells": [
    {
     "cell_type": "code",
     "collapsed": false,
     "input": [
      "import Tkinter, tkFileDialog\n",
      "import pandas as pd\n",
      "import numpy as np\n",
      "import random as r\n",
      "import matplotlib.pyplot as plt"
     ],
     "language": "python",
     "metadata": {},
     "outputs": [],
     "prompt_number": 34
    },
    {
     "cell_type": "code",
     "collapsed": false,
     "input": [
      "root = Tkinter.Tk()\n",
      "root.withdraw()"
     ],
     "language": "python",
     "metadata": {},
     "outputs": [
      {
       "metadata": {},
       "output_type": "pyout",
       "prompt_number": 35,
       "text": [
        "''"
       ]
      }
     ],
     "prompt_number": 35
    },
    {
     "cell_type": "code",
     "collapsed": false,
     "input": [
      "apple_file = tkFileDialog.askopenfile()\n",
      "apple = pd.read_csv(apple_file, parse_dates=[0], na_values='XXXXX')\n",
      "apple.columns = [apple.columns[0], apple.columns[1], 'PctChange']"
     ],
     "language": "python",
     "metadata": {},
     "outputs": [],
     "prompt_number": 36
    },
    {
     "cell_type": "code",
     "collapsed": false,
     "input": [
      "mu = apple.PctChange.mean()  # mean of pct change sample\n",
      "sigma = apple.PctChange.std()  # std dev of pct change sample"
     ],
     "language": "python",
     "metadata": {},
     "outputs": [],
     "prompt_number": 37
    },
    {
     "cell_type": "code",
     "collapsed": false,
     "input": [
      "# helper function to calculate day 20 price\n",
      "def gen_new_obs(start_val, pct_ch):\n",
      "    out = start_val\n",
      "    for pct in pct_ch:\n",
      "        out *= 1 + pct\n",
      "    return out"
     ],
     "language": "python",
     "metadata": {},
     "outputs": [],
     "prompt_number": 38
    },
    {
     "cell_type": "code",
     "collapsed": false,
     "input": [
      "lastVal = apple.Last.values[-1]  # last observed price in sample"
     ],
     "language": "python",
     "metadata": {},
     "outputs": [],
     "prompt_number": 39
    },
    {
     "cell_type": "code",
     "collapsed": false,
     "input": [
      "# run monte carlo experiment 10,000 times\n",
      "Day20Val = ()\n",
      "for i in xrange(10000):\n",
      "    new20pct = [r.gauss(mu, sigma) for days in xrange(20)]\n",
      "    Day20Val += (gen_new_obs(lastVal, new20pct),)"
     ],
     "language": "python",
     "metadata": {},
     "outputs": [],
     "prompt_number": 40
    },
    {
     "cell_type": "code",
     "collapsed": false,
     "input": [
      "# plot normed histogram of values\n",
      "plt.hist(Day20Val, bins=100, normed=1)\n",
      "plt.show()"
     ],
     "language": "python",
     "metadata": {},
     "outputs": [],
     "prompt_number": 41
    },
    {
     "cell_type": "code",
     "collapsed": false,
     "input": [
      "# find 1st percentile\n",
      "print('The VaR is %.2f with 99%% confidence.'\n",
      "      % np.percentile(Day20Val, 1))"
     ],
     "language": "python",
     "metadata": {},
     "outputs": [
      {
       "output_type": "stream",
       "stream": "stdout",
       "text": [
        "The value is over 346.38 99% of the time.\n"
       ]
      }
     ],
     "prompt_number": 42
    }
   ],
   "metadata": {}
  }
 ]
}